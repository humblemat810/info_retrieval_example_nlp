{
 "cells": [
  {
   "cell_type": "markdown",
   "metadata": {},
   "source": [
    "Read data and tokenize"
   ]
  },
  {
   "cell_type": "code",
   "execution_count": 1,
   "metadata": {},
   "outputs": [],
   "source": [
    "import json\n",
    "with open(\"sikm_groupsio-l.json\", 'rb') as f:\n",
    "    bstream = f.read()\n",
    "txt = bstream.decode(\"utf-8\")\n",
    "\n",
    "import re\n",
    "txt_proper2 = re.split('\\r\\n',txt)\n",
    "\n",
    "\n",
    "min_length_content = 10;\n",
    "\n",
    "# fix json non standard format https://www.json.org/json-en.html\n",
    "posts_list = []\n",
    "for i, ln in enumerate(txt_proper2):\n",
    "    if len(ln) > 0:\n",
    "        to_append = json.loads(ln)\n",
    "        if len(to_append[\"content\"]) > min_length_content:\n",
    "            # forget about comment at this moment\n",
    "            to_append_content = to_append['content']\n",
    "            posts_list.append(to_append_content)\n",
    "\n",
    "                   \n",
    "                   \n",
    "import nltk\n",
    "from nltk.corpus import stopwords\n",
    "\n",
    "\n",
    "\n",
    "\n",
    "def is_valid_posts(p):\n",
    "    if len(nltk.tokenize(p)) < min_length_content :\n",
    "        return False\n",
    "    \n",
    "    return True\n",
    "\n",
    "stopwords_list =  stopwords.words(\"english\")\n",
    "\n",
    "posts_list_tokenized = [nltk.tokenize.word_tokenize(p) for p in posts_list]\n",
    "\n",
    "posts_list_tokenized_stop_removed = []\n",
    "\n",
    "#remove stopword and punctuation\n"
   ]
  },
  {
   "cell_type": "code",
   "execution_count": 2,
   "metadata": {},
   "outputs": [],
   "source": [
    "\n",
    "post_corpus=set()\n",
    "from collections import Counter\n",
    "post_corpus_counter = Counter()\n",
    "ndoc_counter = Counter()\n",
    "def filter_word(list_token):\n",
    "    return [word.lower() for word in list_token if word.isalpha() and  word not in stopwords_list]\n",
    "    \n",
    "doc_req_counter = Counter()\n",
    "gram = 1\n",
    "if gram == 1:\n",
    "    for p in posts_list_tokenized:\n",
    "        p2 = filter_word(p)\n",
    "        if len(p2) >= min_length_content:\n",
    "            posts_list_tokenized_stop_removed.append(p2 )\n",
    "    \n",
    "    \n",
    "    def to_vector(sortedkeys):\n",
    "        pass\n",
    "    \n",
    "    for p in posts_list_tokenized_stop_removed:\n",
    "        post_corpus_counter+=  Counter(p)\n",
    "        word_set = set()\n",
    "        for word in p:\n",
    "            word_set.add(word)\n",
    "        for word in word_set:\n",
    "            doc_req_counter[word] += 1\n",
    "\n",
    "\n",
    "elif gram == 2:\n",
    "# digram\n",
    "    raise(NotImplementedError(\"work in progress\"))\n",
    "\n",
    "    for p in posts_list_tokenized[:10]:\n",
    "        \n",
    "        for i_digram in range(len(p)-1):\n",
    "            # simple rules, both not stop words\n",
    "            digram = tuple(p[i_digram:i_digram+2])\n",
    "            if len(filter_word(digram)) > 0:\n",
    "                post_corpus.add(digram)\n",
    "                post_corpus_counter[digram]+=1\n",
    "                pass\n",
    "            \n",
    "            pass\n",
    "\n",
    "\n",
    "\n",
    "term_freq_dict = {k: v for (k, v) in post_corpus_counter.items()}\n"
   ]
  },
  {
   "cell_type": "code",
   "execution_count": 3,
   "metadata": {},
   "outputs": [],
   "source": [
    "#%% sort keys according to alphabetical order\n",
    "sorted_keys = sorted(term_freq_dict.keys())\n",
    "import numpy as np\n",
    "term_freq_vector_np = np.zeros([1, len(sorted_keys)])\n",
    "for i, k in enumerate(sorted_keys):\n",
    "    v = term_freq_dict[k]\n",
    "    term_freq_vector_np[0][i] = v\n",
    "\n",
    "#%% calculat IDF   http://www.tfidf.com/\n",
    "idf_np = np.zeros([1, len(sorted_keys)])\n",
    "n_doc = len(posts_list_tokenized_stop_removed)\n",
    "for i, key in enumerate(sorted_keys):\n",
    "    cnt = doc_req_counter[key]\n",
    "    idf_np[0,i] = np.log(n_doc / cnt)  \n",
    "    # suppose any high-frequency suppressing function work\n"
   ]
  },
  {
   "cell_type": "code",
   "execution_count": 6,
   "metadata": {},
   "outputs": [
    {
     "name": "stdout",
     "output_type": "stream",
     "text": [
      "before 2300, after 2300, removed 0\n",
      "Done 0 posts\n",
      "Done 100 posts\n",
      "Done 200 posts\n",
      "Done 300 posts\n",
      "Done 400 posts\n",
      "Done 500 posts\n",
      "Done 600 posts\n",
      "Done 700 posts\n",
      "Done 800 posts\n",
      "Done 900 posts\n",
      "Done 1000 posts\n",
      "Done 1100 posts\n",
      "Done 1200 posts\n",
      "Done 1300 posts\n",
      "Done 1400 posts\n",
      "Done 1500 posts\n",
      "Done 1600 posts\n",
      "Done 1700 posts\n",
      "Done 1800 posts\n",
      "Done 1900 posts\n",
      "Done 2000 posts\n",
      "Done 2100 posts\n",
      "Done 2200 posts\n"
     ]
    }
   ],
   "source": [
    "#%% vectorising post\n",
    "l0  = len(posts_list)\n",
    "l1 = len(posts_list_tokenized)\n",
    "dl = l0-l1\n",
    "print(f\"before {len(posts_list)}, after {len(posts_list_tokenized)}, removed {dl}\")\n",
    "\n",
    "# helper function to vectorize any post vector given any global corpus\n",
    "word_2_index = {}\n",
    "for i , k in enumerate(sorted_keys):\n",
    "    word_2_index[k] = i\n",
    "\n",
    "def get_idf(word):\n",
    "    if word not in word_2_index:\n",
    "        return -1\n",
    "    \n",
    "    return idf_np[0, word_2_index[word]]\n",
    "\n",
    "tf_idf_np = term_freq_vector_np * idf_np\n",
    "\n",
    "def to_vector(post, sortedkeys = None):\n",
    "    from collections import Counter\n",
    "    \n",
    "    sglobal = set(sortedkeys)\n",
    "    spost = set(post)\n",
    "    if not sglobal >= spost:\n",
    "        raise Exception(\"post contains words not in global, not handled yet\")\n",
    "    post_vector_np = np.zeros([1, len(sorted_keys)])\n",
    "    for word, cnt in dict(Counter(post)).items():\n",
    "        idx = word_2_index[word]\n",
    "        post_vector_np[0,idx] = cnt\n",
    "    return post_vector_np\n",
    "\n",
    "vectorized_post = []\n",
    "\n",
    "for i, p in enumerate(posts_list_tokenized_stop_removed[:]):\n",
    "    if i % 100 == 0:\n",
    "        print(f\"Done {i} posts\")\n",
    "    vectorized_post.append(to_vector(p, sortedkeys = sorted_keys) *\n",
    "                           tf_idf_np)\n"
   ]
  },
  {
   "cell_type": "code",
   "execution_count": 7,
   "metadata": {},
   "outputs": [
    {
     "name": "stdout",
     "output_type": "stream",
     "text": [
      "Top post: Knowledge Management Consultancy - IOM Regional Office for Central America, North America and the Caribbeanhttps://rosanjose.iom.int/SITE/en/vacancy/knowledge-management-consultancy\n"
     ]
    }
   ],
   "source": [
    "#%% brute force search\n",
    "\n",
    "# high dimensional nearest neighbour search brute force first\n",
    "\n",
    "search_word_list = [\"knowledge\", \"management\"]\n",
    "# uncomment below and pick a post to see if can find itself as a sanity test\n",
    "\n",
    "# search_word_list = posts_list_tokenized_stop_removed[895]\n",
    "search_filtered = filter_word(search_word_list)\n",
    "vectorized_search = to_vector(search_filtered, sortedkeys = sorted_keys)\n",
    "\n",
    "if len(search_filtered) > 0:\n",
    "    # simplest case find 1 post only\n",
    "    max_post = None\n",
    "    max_similarity = 0\n",
    "    for post_ID , tgt in enumerate(vectorized_post):\n",
    "        siamese_cosine = np.sum(vectorized_search * tgt, axis = 1)\n",
    "        siamese_cosine /= (np.sum(vectorized_search, axis = 1) * \n",
    "                           np.sum(tgt, axis = 1) )\n",
    "        #print(siamese_cosine)\n",
    "        if siamese_cosine > max_similarity:\n",
    "            max_similarity, max_post, max_post_ID = siamese_cosine, tgt, post_ID\n",
    "        #print(posts_list[max_post_ID])\n",
    "    \n",
    "else:\n",
    "    raise ValueError(\"search keyworkds contain stopwords only\")\n",
    "print(f\"Top post: {posts_list[max_post_ID]}\")"
   ]
  },
  {
   "cell_type": "markdown",
   "metadata": {},
   "source": [
    "Knowledge management appearing 2 times in a short reply, as justifiable result"
   ]
  },
  {
   "cell_type": "code",
   "execution_count": 8,
   "metadata": {},
   "outputs": [
    {
     "data": {
      "text/plain": [
       "[<matplotlib.lines.Line2D at 0x20386fdac88>]"
      ]
     },
     "execution_count": 8,
     "metadata": {},
     "output_type": "execute_result"
    },
    {
     "data": {
      "image/png": "[encoded data removed]",
      "text/plain": [
       "<Figure size 432x288 with 1 Axes>"
      ]
     },
     "metadata": {
      "needs_background": "light"
     },
     "output_type": "display_data"
    }
   ],
   "source": [
    "# Group up the posts before search\n",
    "# brute force done, now do some clustering on topics\n",
    "\"\"\" many to choose from before needing to invent own:\n",
    "    https://scikit-learn.org/stable/modules/clustering.html\n",
    "    \"\"\"\n",
    "\n",
    "from sklearn.cluster import AgglomerativeClustering, Birch, DBSCAN, KMeans\n",
    "\n",
    "vectorized_post2 = [v[0,:] for v in vectorized_post]\n",
    "n_cluster = 10  # currently set just for exploration, no reason why 10\n",
    "# other choices commented\n",
    "# myCluster = KMeans(n_clusters = n_cluster).fit(vectorized_post2[:1200])\n",
    "# myCluster = DBSCAN(n_clusters = n_cluster).fit(vectorized_post2[:1200])\n",
    "# myCluster = Birch(n_clusters = n_cluster).fit(vectorized_post2[:1200])\n",
    "myCluster = AgglomerativeClustering(n_clusters = 10).fit(vectorized_post2[:1200])\n",
    "from matplotlib import pyplot as plt\n",
    "# take a look at the label distributions\n",
    "plt.plot(myCluster.labels_)\n"
   ]
  },
  {
   "cell_type": "code",
   "execution_count": 11,
   "metadata": {},
   "outputs": [],
   "source": [
    "#%% group posts by labels\n",
    "from collections import defaultdict\n",
    "posts_ID_group_by_topic = defaultdict(list)\n",
    "for i, group_num in enumerate(myCluster.labels_):\n",
    "    posts_ID_group_by_topic[group_num].append(i)\n",
    "    \n",
    "    pass\n",
    "topic_centroid = np.zeros([n_cluster,len(sorted_keys)])\n",
    "vectorized_post_np = np.concatenate(vectorized_post, axis = 0)\n",
    "for label, list_of_post_id in posts_ID_group_by_topic.items():\n",
    "    topic_posts = vectorized_post_np[list_of_post_id]\n",
    "    topic_centroid[label] = np.mean(topic_posts, axis = 0)\n",
    "    pass\n",
    "\n",
    "def exhaust_nearest_siamese(tgt, lookup):\n",
    "    tgt_magnitude = np.sqrt(np.sum(tgt**2, axis = 1))\n",
    "    projection = np.dot(lookup, tgt.transpose())\n",
    "    magnitude = np.sqrt(np.sum(lookup**2, axis = 1))\n",
    "    projection_normalised = np.concatenate([projection[i] / (magnitude[i] * tgt_magnitude) for i in range (len(projection))])\n",
    "    return np.argmax(projection_normalised )\n",
    "\n",
    "topic = exhaust_nearest_siamese(tgt = vectorized_search,lookup =  topic_centroid)\n",
    "\n",
    "topic_posts_vectorized = vectorized_post_np[posts_ID_group_by_topic[topic]]\n",
    "topic_posts = [posts_list[i] for i in posts_ID_group_by_topic[0]]\n",
    "\n",
    "\n",
    "in_topic_similarity = np.dot(topic_posts_vectorized, vectorized_search.transpose())\n",
    "tgt_magnitude = np.sqrt(np.sum(vectorized_search**2, axis = 1))\n",
    "magnitude = np.sqrt(np.sum(topic_posts_vectorized**2, axis = 1))\n",
    "similarity_normalised = np.concatenate([in_topic_similarity[i] / (magnitude[i] * tgt_magnitude) for i in range (len(in_topic_similarity))])\n",
    "\n",
    "\n",
    "\n",
    "post_sorted_by_simiarity = np.array(topic_posts)[np.argsort(similarity_normalised, axis = 0)]"
   ]
  },
  {
   "cell_type": "markdown",
   "metadata": {},
   "source": [
    "sorted by increasing similarity, highest is found at last post in post_sorted_by_simiarity"
   ]
  },
  {
   "cell_type": "code",
   "execution_count": 13,
   "metadata": {},
   "outputs": [
    {
     "data": {
      "text/plain": [
       "\"Hello all,I am a new KM practitioner looking to incorporate\\xa0Knowledge Management at my company, Apeel Sciences.\\xa0 In brief, my company makes edible products from natural plant extracts that allow organic and conventional growers to reduce reliance on pesticides, increase produce quality, and provide superior shelf life.\\xa0 Our success thus far has been directly linked to our ability drive innovation from scientific experimentation.\\xa0 We recognize that the failure to capture, iterate and expand our current knowledge is essential for our future.\\xa0\\xa0With this in mind, I am leading the charge into Knowledge Management for our company and will be attending KMWorld 2017 to learn more about the industry, connect with others, and determine what practices can most beneficial\\xa0for my company.\\xa0Currently, we are planning to roll out a wiki-based knowledge management system and I would love to hear about other people's experiences with this type platform.\\xa0 What were some of the critical steps for your success?\\xa0 What are some potential roadblocks to be aware of and how would one potentially overcome them?\\xa0\\xa0If you are going to KMWorld 2017 and can offer\\xa0some advice\\xa0about running KM initiatives\\xa0at R&D-based companies, I would love to connect with you in person - maybe over a meal or drink if you'd like.\\xa0\\xa0And for those who are not attending and think you might have some advice, please comment on this thread or we could connect over the phone.I'm really excited to learn more about Knowledge Management and to learn more from you all!\\xa0 Thank you all in advance.Best regards,Cody\""
      ]
     },
     "execution_count": 13,
     "metadata": {},
     "output_type": "execute_result"
    }
   ],
   "source": [
    "print(post_sorted_by_simiarity[-1])"
   ]
  },
  {
   "cell_type": "code",
   "execution_count": null,
   "metadata": {},
   "outputs": [],
   "source": []
  },
  {
   "cell_type": "code",
   "execution_count": 15,
   "metadata": {},
   "outputs": [
    {
     "name": "stdout",
     "output_type": "stream",
     "text": [
      "Hi All,  I wanted to draw from the group well of knowledge with\n",
      "respect to KCS.  I have been told that\n",
      "this is the “best in class” for KM for support organizations.\n",
      "Could you let me know your thoughts on this statement? Are there alternative organizations\n",
      "to KCS that we should consider?  If you have any other pertinent thoughts on this, I would appreciate\n",
      "them.  Thank you,\n",
      "\n",
      "\n",
      "\n",
      "\n",
      "\n",
      "\n",
      "\n",
      "\n",
      "\n",
      "\n",
      "\n",
      "\n",
      "\n",
      "\n",
      "\n",
      "\n",
      "Chuck\n"
     ]
    }
   ],
   "source": [
    "print(post_sorted_by_simiarity[-2])"
   ]
  },
  {
   "cell_type": "code",
   "execution_count": 18,
   "metadata": {},
   "outputs": [
    {
     "name": "stdout",
     "output_type": "stream",
     "text": [
      "I've felt for a long time that when it comes to studying the factors that impact adoption of Enterprise Social Networks in organizations, there's a lot of good solid academic research that never makes the leap over to actual use because (1) academics are more motivated by publication and citation than they are by encouraging application and (2) practitioners usually don't go looking to academics for help because their information is often behind a journal paywall and incomprehensible to your average layperson even if they could get their hands on the paper.So I've started a series of blog posts to discuss academic theories that might have some bearing on the adoption of ESNs. There are many many IT and psychology theories out there that try to model behavior change and what drives the adoption of new technologies. Here's a link to my introductory post: https://www.linkedin.com/pulse/esn-adoption-introduction-dennis-pearce/Links to my posts on the theories I've covered so far are at the bottom of that post and at the bottom of every post in the series. I've tried to keep the posts fairly short and easy to read. So far I've covered seven with more to come as I get time to write. The ones so far are:\n",
      "Theory of Reasoned Action\n",
      "Technology Acceptance Model\n",
      "Diffusion of Innovations Theory\n",
      "Task-Technology-Fit Model\n",
      "Hedonic Motivation System Adoption Model\n",
      "Representation Theory\n",
      "Swift Trust Theory\n",
      "I'd be interested to see what you think of the idea and if you have any of your favorite theories to offer. I'm looking for theories that have been published in peer-reviewed journals and have a decent number of citations (hundreds or thousands). Not really looking for any one-offs that haven't been replicated or extended. Also, I have a pretty niche focus limited to theories that can be applied to behavior change or technology adoption in the context of ESNs, not any old KM theory.Thanks,Dennis\n"
     ]
    }
   ],
   "source": [
    "print(post_sorted_by_simiarity[0])"
   ]
  },
  {
   "cell_type": "markdown",
   "metadata": {},
   "source": [
    "Repeat the same with the least similar topic cluster"
   ]
  },
  {
   "cell_type": "code",
   "execution_count": 20,
   "metadata": {},
   "outputs": [],
   "source": [
    "def exhaust_furthest_siamese(tgt, lookup):\n",
    "    tgt_magnitude = np.sqrt(np.sum(tgt**2, axis = 1))\n",
    "    projection = np.dot(lookup, tgt.transpose())\n",
    "    magnitude = np.sqrt(np.sum(lookup**2, axis = 1))\n",
    "    projection_normalised = np.concatenate([projection[i] / (magnitude[i] * tgt_magnitude) for i in range (len(projection))])\n",
    "    return np.argmax(projection_normalised )\n",
    "topic = exhaust_furthest_siamese(tgt = vectorized_search,lookup =  topic_centroid)\n",
    "\n",
    "topic_posts_vectorized = vectorized_post_np[posts_ID_group_by_topic[topic]]\n",
    "topic_posts = [posts_list[i] for i in posts_ID_group_by_topic[0]]\n",
    "\n",
    "\n",
    "in_topic_similarity = np.dot(topic_posts_vectorized, vectorized_search.transpose())\n",
    "tgt_magnitude = np.sqrt(np.sum(vectorized_search**2, axis = 1))\n",
    "magnitude = np.sqrt(np.sum(topic_posts_vectorized**2, axis = 1))\n",
    "similarity_normalised = np.concatenate([in_topic_similarity[i] / (magnitude[i] * tgt_magnitude) for i in range (len(in_topic_similarity))])\n",
    "\n",
    "\n",
    "\n",
    "post_sorted_by_simiarity = np.array(topic_posts)[np.argsort(similarity_normalised, axis = 0)]"
   ]
  },
  {
   "cell_type": "markdown",
   "metadata": {},
   "source": [
    "Most similar post in the least similar cluster"
   ]
  },
  {
   "cell_type": "code",
   "execution_count": 21,
   "metadata": {},
   "outputs": [
    {
     "name": "stdout",
     "output_type": "stream",
     "text": [
      "Hello all,I am a new KM practitioner looking to incorporate Knowledge Management at my company, Apeel Sciences.  In brief, my company makes edible products from natural plant extracts that allow organic and conventional growers to reduce reliance on pesticides, increase produce quality, and provide superior shelf life.  Our success thus far has been directly linked to our ability drive innovation from scientific experimentation.  We recognize that the failure to capture, iterate and expand our current knowledge is essential for our future.  With this in mind, I am leading the charge into Knowledge Management for our company and will be attending KMWorld 2017 to learn more about the industry, connect with others, and determine what practices can most beneficial for my company. Currently, we are planning to roll out a wiki-based knowledge management system and I would love to hear about other people's experiences with this type platform.  What were some of the critical steps for your success?  What are some potential roadblocks to be aware of and how would one potentially overcome them?  If you are going to KMWorld 2017 and can offer some advice about running KM initiatives at R&D-based companies, I would love to connect with you in person - maybe over a meal or drink if you'd like.  And for those who are not attending and think you might have some advice, please comment on this thread or we could connect over the phone.I'm really excited to learn more about Knowledge Management and to learn more from you all!  Thank you all in advance.Best regards,Cody\n"
     ]
    }
   ],
   "source": [
    "print(post_sorted_by_simiarity[-1])"
   ]
  },
  {
   "cell_type": "markdown",
   "metadata": {},
   "source": [
    "Least similar post in the least similar cluster"
   ]
  },
  {
   "cell_type": "code",
   "execution_count": 24,
   "metadata": {},
   "outputs": [
    {
     "name": "stdout",
     "output_type": "stream",
     "text": [
      "I've felt for a long time that when it comes to studying the factors that impact adoption of Enterprise Social Networks in organizations, there's a lot of good solid academic research that never makes the leap over to actual use because (1) academics are more motivated by publication and citation than they are by encouraging application and (2) practitioners usually don't go looking to academics for help because their information is often behind a journal paywall and incomprehensible to your average layperson even if they could get their hands on the paper.So I've started a series of blog posts to discuss academic theories that might have some bearing on the adoption of ESNs. There are many many IT and psychology theories out there that try to model behavior change and what drives the adoption of new technologies. Here's a link to my introductory post: https://www.linkedin.com/pulse/esn-adoption-introduction-dennis-pearce/Links to my posts on the theories I've covered so far are at the bottom of that post and at the bottom of every post in the series. I've tried to keep the posts fairly short and easy to read. So far I've covered seven with more to come as I get time to write. The ones so far are:\n",
      "Theory of Reasoned Action\n",
      "Technology Acceptance Model\n",
      "Diffusion of Innovations Theory\n",
      "Task-Technology-Fit Model\n",
      "Hedonic Motivation System Adoption Model\n",
      "Representation Theory\n",
      "Swift Trust Theory\n",
      "I'd be interested to see what you think of the idea and if you have any of your favorite theories to offer. I'm looking for theories that have been published in peer-reviewed journals and have a decent number of citations (hundreds or thousands). Not really looking for any one-offs that haven't been replicated or extended. Also, I have a pretty niche focus limited to theories that can be applied to behavior change or technology adoption in the context of ESNs, not any old KM theory.Thanks,Dennis\n"
     ]
    }
   ],
   "source": [
    "print(post_sorted_by_simiarity[0])"
   ]
  },
  {
   "cell_type": "markdown",
   "metadata": {},
   "source": [
    "Simple conclusion here, seems like clustering gives no improvement at this curre"
   ]
  }
 ],
 "metadata": {
  "kernelspec": {
   "display_name": "Python 3",
   "language": "python",
   "name": "python3"
  },
  "language_info": {
   "codemirror_mode": {
    "name": "ipython",
    "version": 3
   },
   "file_extension": ".py",
   "mimetype": "text/x-python",
   "name": "python",
   "nbconvert_exporter": "python",
   "pygments_lexer": "ipython3",
   "version": "3.7.7"
  }
 },
 "nbformat": 4,
 "nbformat_minor": 4
}
